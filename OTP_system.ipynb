{
 "cells": [
  {
   "cell_type": "code",
   "execution_count": 5,
   "id": "e3158c84-f271-4c65-859b-95f0ef550b9f",
   "metadata": {},
   "outputs": [
    {
     "name": "stdout",
     "output_type": "stream",
     "text": [
      "You OTP is :5 7 2 8 3 1\n"
     ]
    },
    {
     "name": "stdin",
     "output_type": "stream",
     "text": [
      "Enter the 6 digit OTP you recieved 5 7 2 8 3 1\n"
     ]
    },
    {
     "name": "stdout",
     "output_type": "stream",
     "text": [
      "OTP verified successfully!\n"
     ]
    }
   ],
   "source": [
    "import random\n",
    "import string\n",
    "\n",
    "def generate_otp(length=6):\n",
    "    digits = string.digits  # otp will consist og digital only.\n",
    "    otp    = \" \".join(random.choice(digits) for _ in range(length))\n",
    "    return otp\n",
    "\n",
    "def send_otp(otp):\n",
    "    print(f\"You OTP is :{otp}\")  # sending otp to the user.\n",
    "\n",
    "def verify_otp(generated_otp,entered_otp):\n",
    "    return generated_otp == entered_otp\n",
    "\n",
    "def otp_system():\n",
    "    otp_length = 6\n",
    "    otp = generate_otp(otp_length)\n",
    "    send_otp(otp)\n",
    "\n",
    "    user_otp = input(\"Enter the 6 digit OTP you recieved\")\n",
    "\n",
    "    if verify_otp(otp,user_otp):\n",
    "        print(\"OTP verified successfully!\")\n",
    "\n",
    "    else:\n",
    "        print(\"INvalid OTP.Please try again\")\n",
    "\n",
    "#run the otp system\n",
    "\n",
    "if __name__ == \"__main__\":\n",
    "    otp_system()\n",
    "    "
   ]
  },
  {
   "cell_type": "code",
   "execution_count": null,
   "id": "a21196b6-c7fd-42f5-a142-04655b837bf2",
   "metadata": {},
   "outputs": [],
   "source": []
  }
 ],
 "metadata": {
  "kernelspec": {
   "display_name": "Python 3 (ipykernel)",
   "language": "python",
   "name": "python3"
  },
  "language_info": {
   "codemirror_mode": {
    "name": "ipython",
    "version": 3
   },
   "file_extension": ".py",
   "mimetype": "text/x-python",
   "name": "python",
   "nbconvert_exporter": "python",
   "pygments_lexer": "ipython3",
   "version": "3.12.4"
  }
 },
 "nbformat": 4,
 "nbformat_minor": 5
}
